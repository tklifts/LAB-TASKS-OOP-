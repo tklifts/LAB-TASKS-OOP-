{
 "cells": [
  {
   "cell_type": "code",
   "execution_count": 1,
   "id": "a56d768b-8ff1-4593-89a4-94ee04276c14",
   "metadata": {},
   "outputs": [
    {
     "name": "stdout",
     "output_type": "stream",
     "text": [
      "Vehicle Make: Toyota, Model: Camry\n",
      "Number of Doors: 4\n",
      "\n",
      "*************************\n",
      "*************************\n",
      "\n",
      "Vehicle Make: Mercedes-Benz, Model: S-Class\n",
      "Number of Doors: 4\n",
      "Luxury Features: seat heating,sun roof,looks good\n"
     ]
    }
   ],
   "source": [
    "\n",
    "class Vehicle:\n",
    "    def __init__(self, make, model):\n",
    "        self.make = make\n",
    "        self.model = model\n",
    "\n",
    "    def display_info(self):\n",
    "        print(f\"Vehicle Make: {self.make}, Model: {self.model}\")\n",
    "\n",
    "\n",
    "\n",
    "class Car(Vehicle):\n",
    "    def __init__(self, make, model, num_doors):\n",
    "        super().__init__(make, model)\n",
    "        self.num_doors = num_doors\n",
    "\n",
    "    def additional_info(self):\n",
    "        print(f\"Number of Doors: {self.num_doors}\")\n",
    "\n",
    "\n",
    "\n",
    "class LuxuryCar(Car):\n",
    "    def __init__(self, make, model, num_doors, luxury_feature1,luxury_feature2,luxury_feature3):\n",
    "        super().__init__(make, model, num_doors)\n",
    "        self.luxury_feature1 = luxury_feature1\n",
    "        self.luxury_feature2 = luxury_feature2\n",
    "        self.luxury_feature3 = luxury_feature3\n",
    "        \n",
    "    def additional_info(self):\n",
    "        print(f\"Number of Doors: {self.num_doors}\")\n",
    "        print(f\"Luxury Features: {self.luxury_feature1},{self.luxury_feature2},{self.luxury_feature3}\")\n",
    "\n",
    "car = Car(\"Toyota\", \"Camry\", 4)\n",
    "car.display_info()\n",
    "car.additional_info()\n",
    "print()\n",
    "print('*************************')\n",
    "print('*************************')\n",
    "print()\n",
    "luxury_car = LuxuryCar(\"Mercedes-Benz\", \"S-Class\", 4, 'seat heating','sun roof','looks good')\n",
    "luxury_car.display_info()\n",
    "luxury_car.additional_info()\n"
   ]
  },
  {
   "cell_type": "code",
   "execution_count": null,
   "id": "253d3d43-3cc8-49ce-858e-9ba9f4ea8a38",
   "metadata": {},
   "outputs": [],
   "source": []
  }
 ],
 "metadata": {
  "kernelspec": {
   "display_name": "Python 3 (ipykernel)",
   "language": "python",
   "name": "python3"
  },
  "language_info": {
   "codemirror_mode": {
    "name": "ipython",
    "version": 3
   },
   "file_extension": ".py",
   "mimetype": "text/x-python",
   "name": "python",
   "nbconvert_exporter": "python",
   "pygments_lexer": "ipython3",
   "version": "3.11.7"
  }
 },
 "nbformat": 4,
 "nbformat_minor": 5
}
