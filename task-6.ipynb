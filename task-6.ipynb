{
 "cells": [
  {
   "cell_type": "code",
   "execution_count": null,
   "id": "be5fefa7-d50a-479b-800a-e387ecaedea0",
   "metadata": {},
   "outputs": [],
   "source": [
    "\n",
    "class Course:\n",
    "    def __init__(self, course_code, course_name):\n",
    "        self.course_code = course_code\n",
    "        self.course_name = course_name\n",
    "\n",
    "    def display_info(self):\n",
    "        print(f\"Course Code: {self.course_code}, Course Name: {self.course_name}\")\n",
    "\n",
    "\n",
    "\n",
    "class UndergraduateCourse(Course):\n",
    "    def __init__(self, course_code, course_name, year_level):\n",
    "        super().__init__(course_code, course_name)\n",
    "        self.year_level = year_level\n",
    "\n",
    "    def additional_info(self):\n",
    "        print(f\"Year Level: {self.year_level}\")\n",
    "\n",
    "\n",
    "\n",
    "class GraduateCourse(Course):\n",
    "    def __init__(self, course_code, course_name, research_area):\n",
    "        super().__init__(course_code, course_name)\n",
    "        self.research_area = research_area\n",
    "\n",
    "    def additional_info(self):\n",
    "        print(f\"Research Area: {self.research_area}\")\n",
    "\n",
    "\n",
    "def register_course():\n",
    "    course_code = input(\"Please enter the course code: \")\n",
    "    course_name = input(\"Please enter the course name: \")\n",
    "    \n",
    "    course_type = input(\"Is this an Undergraduate or Graduate course? (U/G): \").upper()\n",
    "    \n",
    "    if course_type == 'U':\n",
    "        year_level = input(\"input year level (1, 2, 3, or 4): \")\n",
    "        course = UndergraduateCourse(course_code, course_name, year_level)\n",
    "    elif course_type == 'G':\n",
    "        research_area = input(\"Input research area for the course: \")\n",
    "        course = GraduateCourse(course_code, course_name, research_area)\n",
    "    else:\n",
    "        print(\"Invalid input. Please enter 'U' for Undergraduate or 'G' for Graduate.\")\n",
    "        return\n",
    "\n",
    "    course.display_info()\n",
    "    course.additional_info()\n",
    "\n",
    "\n",
    "\n",
    "register_course()\n"
   ]
  }
 ],
 "metadata": {
  "kernelspec": {
   "display_name": "Python 3 (ipykernel)",
   "language": "python",
   "name": "python3"
  },
  "language_info": {
   "codemirror_mode": {
    "name": "ipython",
    "version": 3
   },
   "file_extension": ".py",
   "mimetype": "text/x-python",
   "name": "python",
   "nbconvert_exporter": "python",
   "pygments_lexer": "ipython3",
   "version": "3.11.7"
  }
 },
 "nbformat": 4,
 "nbformat_minor": 5
}
