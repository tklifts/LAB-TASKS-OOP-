{
 "cells": [
  {
   "cell_type": "code",
   "execution_count": 2,
   "id": "4fe8476d-22d4-411e-be03-4fd6c1d3e185",
   "metadata": {},
   "outputs": [
    {
     "name": "stdout",
     "output_type": "stream",
     "text": [
      "Title: A Song of Ice and Fire, Author: (self.author), Publication Year: 1996\n"
     ]
    }
   ],
   "source": [
    "class Book:\n",
    "    def __init__(self, title, author, publication_year):\n",
    "        self.title = title\n",
    "        self.author = author\n",
    "        self.publication_year = publication_year\n",
    "\n",
    "    def __str__(self):\n",
    "        return f\"Title: {self.title}, Author: (self.author), Publication Year: {self.publication_year}\"\n",
    "\n",
    "book = Book(\"A Song of Ice and Fire\", \"George R. R. Martin\", 1996)\n",
    "print(book)"
   ]
  },
  {
   "cell_type": "code",
   "execution_count": null,
   "id": "73413e7e-8b9d-493e-a9d3-543812dcb87b",
   "metadata": {},
   "outputs": [],
   "source": []
  }
 ],
 "metadata": {
  "kernelspec": {
   "display_name": "Python 3 (ipykernel)",
   "language": "python",
   "name": "python3"
  },
  "language_info": {
   "codemirror_mode": {
    "name": "ipython",
    "version": 3
   },
   "file_extension": ".py",
   "mimetype": "text/x-python",
   "name": "python",
   "nbconvert_exporter": "python",
   "pygments_lexer": "ipython3",
   "version": "3.11.7"
  }
 },
 "nbformat": 4,
 "nbformat_minor": 5
}
