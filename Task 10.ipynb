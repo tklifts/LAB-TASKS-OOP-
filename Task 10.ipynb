{
  "metadata": {
    "kernelspec": {
      "name": "python",
      "display_name": "Python (Pyodide)",
      "language": "python"
    },
    "language_info": {
      "codemirror_mode": {
        "name": "python",
        "version": 3
      },
      "file_extension": ".py",
      "mimetype": "text/x-python",
      "name": "python",
      "nbconvert_exporter": "python",
      "pygments_lexer": "ipython3",
      "version": "3.8"
    }
  },
  "nbformat_minor": 4,
  "nbformat": 4,
  "cells": [
    {
      "cell_type": "code",
      "source": "\nclass Employee:\n    def __init__(self, name, age, salary):\n        self.__name = name\n        self.__age = age\n        self.__salary = salary\n\n\n    def get_name(self):\n        return self.__name\n\n    def set_name(self, name):\n        self.__name = name\n\n    def get_age(self):\n        return self.__age\n\n    def set_age(self, age):\n        self.__age = age\n\n    def get_salary(self):\n        return self.__salary\n\n    def set_salary(self, salary):\n        self.__salary = salary\n\nclass Manager(Employee):\n    def __init__(self, name, age, salary, department):\n        super().__init__(name, age, salary)\n        self.__department = department\n\n    def get_department(self):\n        return self.__department\n\n    def set_department(self, department):\n        self.__department = department\n\nclass Worker(Employee):\n    def __init__(self, name, age, salary, hours_worked):\n        super().__init__(name, age, salary)\n        self.__hours_worked = hours_worked\n\n    def get_hours_worked(self):\n        return self.__hours_worked\n\n    def set_hours_worked(self, hours_worked):\n        self.__hours_worked = hours_worked\n\ndef add_employee(employee):\n    with open(\"employees.csv\", mode=\"a\", newline=\"\") as file:\n        writer = csv.writer(file)\n        if isinstance(employee, Manager):\n            writer.writerow([employee.get_name(), employee.get_age(), employee.get_salary(),\n                             employee.get_department(), \"\"])\n        elif isinstance(employee, Worker):\n            writer.writerow([employee.get_name(), employee.get_age(), employee.get_salary(), \n                             \"\", employee.get_hours_worked()])\n\ndef display_employees():\n    with open(\"employees.csv\", mode=\"r\") as file:\n        reader = csv.reader(file)\n        print(\"Name | Age | Salary | Department | Hours Worked\")\n        for row in reader:\n            print(\" | \".join(row))\n\ndef update_employee(name, attribute, new_value):\n    rows = []\n    with open(\"employees.csv\", mode=\"r\") as file:\n        reader = csv.reader(file)\n        for row in reader:\n            if row[0] == name:\n                if attribute == \"age\":\n                    row[1] = new_value\n                elif attribute == \"salary\":\n                    row[2] = new_value\n                elif attribute == \"department\":\n                    row[3] = new_value\n                elif attribute == \"hours_worked\":\n                    row[4] = new_value\n            rows.append(row)\n\n    with open(\"employees.csv\", mode=\"w\", newline=\"\") as file:\n        writer = csv.writer(file)\n        writer.writerows(rows)\n\ndef delete_employee(name):\n    rows = []\n    with open(\"employees.csv\", mode=\"r\") as file:\n        reader = csv.reader(file)\n        for row in reader:\n            if row[0] != name:\n                rows.append(row)\n\n    with open(\"employees.csv\", mode=\"w\", newline=\"\") as file:\n        writer = csv.writer(file)\n        writer.writerows(rows)\n\ndef main():\n    while True:\n        print(\"\\nEmployee Management System\")\n        print(\"1. Add Employee\")\n        print(\"2. Display Employees\")\n        print(\"3. Update Employee Information\")\n        print(\"4. Delete Employee\")\n        print(\"5. Exit\")\n        choice = input(\"Enter your choice: \")\n\n        if choice == \"1\":\n            emp_type = input(\"Enter type of employee (Manager/Worker): \").strip().lower()\n            name = input(\"Enter name: \")\n            age = input(\"Enter age: \")\n            salary = input(\"Enter salary: \")\n\n            if emp_type == \"manager\":\n                department = input(\"Enter department: \")\n                manager = Manager(name, age, salary, department)\n                add_employee(manager)\n            elif emp_type == \"worker\":\n                hours_worked = input(\"Enter hours worked: \")\n                worker = Worker(name, age, salary, hours_worked)\n                add_employee(worker)\n            else:\n                print(\"Invalid type!\")\n\n        elif choice == \"2\":\n            display_employees()\n\n        elif choice == \"3\":\n            name = input(\"Enter the name of the employee to update: \")\n            attribute = input(\"Enter the attribute to update (age/salary/department/hours_worked): \").strip().lower()\n            new_value = input(\"Enter the new value: \")\n            update_employee(name, attribute, new_value)\n\n        elif choice == \"4\":\n            name = input(\"Enter the name of the employee to delete: \")\n            delete_employee(name)\n\n        elif choice == \"5\":\n            print(\"Exiting...\")\n            break\n\n        else:\n            print(\"Invalid choice. Please try again.\")\n\nif __name__ == \"__main__\":\n    main()\n",
      "metadata": {
        "trusted": true
      },
      "outputs": [],
      "execution_count": null
    }
  ]
}