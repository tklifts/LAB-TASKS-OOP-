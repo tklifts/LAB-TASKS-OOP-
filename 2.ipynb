{
 "cells": [
  {
   "cell_type": "markdown",
   "id": "6cf71be2-b397-4295-b7c0-d3482ca5fb51",
   "metadata": {},
   "source": [
    "ClASS:\n",
    "•\tBlueprint or Template: A class is like a blueprint or template that defines the structure and behavior of objects.\n",
    "•\tAttributes and Methods: It specifies the data (attributes) that objects of that class will have and the actions (methods) they can perform.\n",
    "•\tAbstract Definition: A class is an abstract concept, not a tangible entity.\n",
    "OBJECT:\n",
    "•\tInstance of a Class: An object is a concrete instance of a class. It is a real, tangible entity that exists in memory.\n",
    "•\tSpecific Values: Each object has its own specific values for the attributes defined in its class.\n",
    "•\tCan Perform Methods: Objects can perform the methods defined in their class.\n"
   ]
  },
  {
   "cell_type": "code",
   "execution_count": null,
   "id": "664bea9a-5b37-45a7-8998-1b3ac85a52d5",
   "metadata": {},
   "outputs": [],
   "source": [
    "class Car:\n",
    "    def __init__(self, make, model):\n",
    "        self.make = make  \n",
    "        self.model = model\n",
    "\n",
    "    def display_info(self):\n",
    "        print(f\"Car make: {self.make}, model: {self.model}\")\n",
    "\n",
    "my_car = Car(\"Toyota\", \"Camry\")  \n",
    "my_car.display_info()  "
   ]
  },
  {
   "cell_type": "markdown",
   "id": "376b199c-3cab-4059-a2c5-4d28bc207c6a",
   "metadata": {},
   "source": [
    "init() Method\n",
    "•\tInitialization: The __init__() method is a special method that is automatically called when an object of a class is created.\n",
    "•\tInitialization of Attributes: It's used to initialize the attributes of the object with specific values.\n",
    "•\tRequired for Object Creation: It's essential for creating objects.\n",
    "str() Function\n",
    "•\tString Representation: The __str__() method is used to define how an object should be represented as a string.\n",
    "•\tCustom String Format: It allows you to customize the format in which the object's attributes are displayed when printed or converted to a string.\n",
    "•\tOptional but Useful: It's not strictly required, but it's very useful for debugging and printing meaningful information about objects.\n"
   ]
  },
  {
   "cell_type": "code",
   "execution_count": 2,
   "id": "3a321edb-8486-4890-aa1a-cd27dbdaca0b",
   "metadata": {},
   "outputs": [
    {
     "name": "stdout",
     "output_type": "stream",
     "text": [
      "2021 Toyota Camry\n"
     ]
    }
   ],
   "source": [
    "class Car:\n",
    "    def __init__(self, make, model, year):\n",
    "        self.make = make \n",
    "        self.model = model\n",
    "        self.year = year\n",
    "\n",
    "    \n",
    "    def __str__(self):\n",
    "        return f\"{self.year} {self.make} {self.model}\"\n",
    "\n",
    "my_car = Car(\"Toyota\", \"Camry\", 2021)\n",
    "print(my_car)\n"
   ]
  },
  {
   "cell_type": "code",
   "execution_count": null,
   "id": "e0cc727b-1a49-4050-936b-92eb433c77e1",
   "metadata": {},
   "outputs": [],
   "source": []
  }
 ],
 "metadata": {
  "kernelspec": {
   "display_name": "Python 3 (ipykernel)",
   "language": "python",
   "name": "python3"
  },
  "language_info": {
   "codemirror_mode": {
    "name": "ipython",
    "version": 3
   },
   "file_extension": ".py",
   "mimetype": "text/x-python",
   "name": "python",
   "nbconvert_exporter": "python",
   "pygments_lexer": "ipython3",
   "version": "3.11.7"
  }
 },
 "nbformat": 4,
 "nbformat_minor": 5
}
