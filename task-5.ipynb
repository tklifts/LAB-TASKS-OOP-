{
 "cells": [
  {
   "cell_type": "code",
   "execution_count": 2,
   "id": "af3396b8-b109-4828-8822-d050131c681f",
   "metadata": {},
   "outputs": [
    {
     "name": "stdout",
     "output_type": "stream",
     "text": [
      "Title: The Great Gatsby\n",
      "Author: F. Scott Fitzgerald\n",
      " no of Pages are : 180\n",
      "Title: National Geographic\n",
      "Author: Various Authors\n",
      "Issue Number is : 2024\n"
     ]
    }
   ],
   "source": [
    "class Item:\n",
    "    def __init__(self, title, author):\n",
    "        self.title = title\n",
    "        self.author = author\n",
    "    \n",
    "    def display(self):\n",
    "        print(f\"Title: {self.title}\")\n",
    "        print(f\"Author: {self.author}\")\n",
    "\n",
    "\n",
    "class Book(Item):\n",
    "    def __init__(self, title, author, pages):\n",
    "        super().__init__(title, author)\n",
    "        self.pages = pages\n",
    "    \n",
    "    def additional_info(self):\n",
    "        print(f\" no of Pages are : {self.pages}\")\n",
    "\n",
    "\n",
    "class Magazine(Item):\n",
    "    def __init__(self, title, author, issue_number):\n",
    "        super().__init__(title, author)\n",
    "        self.issue_number = issue_number\n",
    "    \n",
    "    def additional_info(self):\n",
    "        print(f\"Issue Number is : {self.issue_number}\")\n",
    "\n",
    "\n",
    "book = Book(\"The Great Gatsby\", \"F. Scott Fitzgerald\", 180)\n",
    "book.display()\n",
    "book.additional_info()\n",
    "\n",
    "magazine = Magazine(\"National Geographic\", \"Various Authors\", 2024)\n",
    "magazine.display()\n",
    "magazine.additional_info()\n"
   ]
  },
  {
   "cell_type": "code",
   "execution_count": null,
   "id": "3a6d880f-1b85-46ff-bf95-72111dfb6163",
   "metadata": {},
   "outputs": [],
   "source": []
  }
 ],
 "metadata": {
  "kernelspec": {
   "display_name": "Python 3 (ipykernel)",
   "language": "python",
   "name": "python3"
  },
  "language_info": {
   "codemirror_mode": {
    "name": "ipython",
    "version": 3
   },
   "file_extension": ".py",
   "mimetype": "text/x-python",
   "name": "python",
   "nbconvert_exporter": "python",
   "pygments_lexer": "ipython3",
   "version": "3.11.7"
  }
 },
 "nbformat": 4,
 "nbformat_minor": 5
}
