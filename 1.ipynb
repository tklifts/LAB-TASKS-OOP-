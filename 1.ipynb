{
 "cells": [
  {
   "cell_type": "code",
   "execution_count": 2,
   "id": "73417558-e7d5-41f9-8ac8-a8fca05ed558",
   "metadata": {},
   "outputs": [
    {
     "name": "stdin",
     "output_type": "stream",
     "text": [
      "Enter a number (or type 'e' to quit):  17\n"
     ]
    },
    {
     "name": "stdout",
     "output_type": "stream",
     "text": [
      "Program terminated.\n"
     ]
    }
   ],
   "source": [
    "import math\n",
    "\n",
    "def is_prime(number):\n",
    "    if number <= 1:\n",
    "        return False\n",
    "    if number == 2:\n",
    "        return True\n",
    "    for i in range(2, int(math.sqrt(number)) + 1):\n",
    "        if number % i == 0:\n",
    "            return False\n",
    "    return True\n",
    "\n",
    "while True:\n",
    "    try:\n",
    "        num = int(input(\"Enter a number (or type 'e' to quit): \"))\n",
    "        if num:\n",
    "            print(\"Program terminated.\")\n",
    "            break\n",
    "        if is_prime(num):\n",
    "            print(f\"{num} is a prime number.\")\n",
    "        else:\n",
    "            print(f\"{num} is not a prime number.\")\n",
    "    except ValueError:\n",
    "        print(\"Invalid input. Please enter a valid number.\")\n"
   ]
  },
  {
   "cell_type": "code",
   "execution_count": null,
   "id": "db6c2dc7-80e9-4823-9c90-20b132ab32b9",
   "metadata": {},
   "outputs": [],
   "source": []
  }
 ],
 "metadata": {
  "kernelspec": {
   "display_name": "Python 3 (ipykernel)",
   "language": "python",
   "name": "python3"
  },
  "language_info": {
   "codemirror_mode": {
    "name": "ipython",
    "version": 3
   },
   "file_extension": ".py",
   "mimetype": "text/x-python",
   "name": "python",
   "nbconvert_exporter": "python",
   "pygments_lexer": "ipython3",
   "version": "3.11.7"
  }
 },
 "nbformat": 4,
 "nbformat_minor": 5
}
