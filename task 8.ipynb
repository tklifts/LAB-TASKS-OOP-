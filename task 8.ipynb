{
  "metadata": {
    "kernelspec": {
      "name": "python",
      "display_name": "Python (Pyodide)",
      "language": "python"
    },
    "language_info": {
      "codemirror_mode": {
        "name": "python",
        "version": 3
      },
      "file_extension": ".py",
      "mimetype": "text/x-python",
      "name": "python",
      "nbconvert_exporter": "python",
      "pygments_lexer": "ipython3",
      "version": "3.8"
    }
  },
  "nbformat_minor": 4,
  "nbformat": 4,
  "cells": [
    {
      "cell_type": "code",
      "source": "\nclass Person:\n    def __init__(self, name, age):\n        self.name = name\n        self.age = age\n\n    def display_info(self):\n        print(f\"Name: {self.name}\")\n        print(f\"Age: {self.age}\")\n\nclass Employee:\n    def __init__(self, employee_id, position):\n        self.employee_id = employee_id\n        self.position = position\n\n    def display_info(self):\n        print(f\"Employee ID: {self.employee_id}\")\n        print(f\"Position: {self.position}\")\n\nclass Staff(Person, Employee):\n    def __init__(self, name, age, employee_id, position, department):\n        Person.__init__(self, name, age)\n        Employee.__init__(self, employee_id, position)\n        self.department = department\n\n    def additional_info(self):\n        print(f\"Department: {self.department}\")\n\nclass EmployeeManager:\n    def __init__(self, file_name):\n        self.file_name = file_name\n\n    def read_employees(self):\n        \"\"\"Reads employee information from the CSV file.\"\"\"\n        try:\n            with open(self.file_name, mode=\"r\", newline='') as file:\n                reader = csv.DictReader(file)\n                for row in reader:\n                    print(f\"{row['Name']}, {row['Age']}, {row['Employee ID']}, {row['Position']}, {row['Department']}\")\n        except FileNotFoundError:\n            print(\"No employees to display.\")\n\n    def add_employee(self, staff):\n        \"\"\"Adds new employee information to the CSV file.\"\"\"\n        with open(self.file_name, mode=\"a\", newline='') as file:\n            writer = csv.writer(file)\n            writer.writerow([staff.name, staff.age, staff.employee_id, staff.position, staff.department])\n        print(\"Employee added\")\n\n    def save_header(self):\n        \"\"\"Writes the header to the CSV file (if not already written).\"\"\"\n        try:\n            with open(self.file_name, mode=\"x\", newline='') as file:\n                writer = csv.writer(file)\n                writer.writerow([\"Name\", \"Age\", \"Employee ID\", \"Position\", \"Department\"])\n        except FileExistsError:\n            pass  \n\nif __name__ == \"__main__\":\n    manager = EmployeeManager(\"employees.csv\")\n    manager.save_header()\n\n    staff1 = Staff(\"Talha\", 21, \"TK21\", \"Data Scientist\", \"DS\")\n    staff2 = Staff(\"Hassan\", 23, \"Hzy30\", \"Manager\", \"Sales\")\n\n    print(\"Employee 1:\")\n    staff1.display_info()\n    staff1.additional_info()\n\n    print(\"\\nEmployee 2:\")\n    staff2.display_info()\n    staff2.additional_info()\n\n    manager.add_employee(staff1)\n    manager.add_employee(staff2)\n\n    print(\"\\nAll Employees:\")\n    manager.read_employees()\n",
      "metadata": {
        "trusted": true
      },
      "outputs": [],
      "execution_count": null
    }
  ]
}