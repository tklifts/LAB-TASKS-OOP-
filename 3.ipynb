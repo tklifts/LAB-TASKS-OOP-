{
 "cells": [
  {
   "cell_type": "code",
   "execution_count": 2,
   "id": "2a52f6a0-6e58-48ae-91f6-848ce11ff015",
   "metadata": {},
   "outputs": [
    {
     "name": "stdin",
     "output_type": "stream",
     "text": [
      "Enter the width of the rectangle:  10\n",
      "Enter the height of the rectangle:  10\n"
     ]
    },
    {
     "name": "stdout",
     "output_type": "stream",
     "text": [
      "Rectangle with width 10.0 and height 10.0\n",
      "Area of the rectangle: 100.0\n",
      "Perimeter of the rectangle: 40.0\n"
     ]
    }
   ],
   "source": [
    "class Rectangle:\n",
    "    def __init__(self, width, height):  \n",
    "        self.width = width\n",
    "        self.height = height\n",
    "\n",
    "    def area(self):\n",
    "        return self.width * self.height\n",
    "\n",
    "    def perimeter(self):\n",
    "        return 2 * (self.width + self.height)\n",
    "\n",
    "    def __str__(self):  \n",
    "        return f\"Rectangle with width {self.width} and height {self.height}\"\n",
    "\n",
    "width = float(input(\"Enter the width of the rectangle: \"))\n",
    "height = float(input(\"Enter the height of the rectangle: \"))\n",
    "rect = Rectangle(width, height)\n",
    "print(rect)  \n",
    "print(f\"Area of the rectangle: {rect.area()}\")  \n",
    "print(f\"Perimeter of the rectangle: {rect.perimeter()}\")  \n"
   ]
  },
  {
   "cell_type": "code",
   "execution_count": null,
   "id": "55c66c4b-f2c3-4575-9fd4-c73484ae6494",
   "metadata": {},
   "outputs": [],
   "source": []
  }
 ],
 "metadata": {
  "kernelspec": {
   "display_name": "Python 3 (ipykernel)",
   "language": "python",
   "name": "python3"
  },
  "language_info": {
   "codemirror_mode": {
    "name": "ipython",
    "version": 3
   },
   "file_extension": ".py",
   "mimetype": "text/x-python",
   "name": "python",
   "nbconvert_exporter": "python",
   "pygments_lexer": "ipython3",
   "version": "3.11.7"
  }
 },
 "nbformat": 4,
 "nbformat_minor": 5
}
