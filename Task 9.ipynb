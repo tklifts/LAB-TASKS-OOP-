{
  "metadata": {
    "kernelspec": {
      "name": "python",
      "display_name": "Python (Pyodide)",
      "language": "python"
    },
    "language_info": {
      "codemirror_mode": {
        "name": "python",
        "version": 3
      },
      "file_extension": ".py",
      "mimetype": "text/x-python",
      "name": "python",
      "nbconvert_exporter": "python",
      "pygments_lexer": "ipython3",
      "version": "3.8"
    }
  },
  "nbformat_minor": 4,
  "nbformat": 4,
  "cells": [
    {
      "cell_type": "code",
      "source": "class Document:\n    def __init__(self, title, author):\n        self.title = title\n        self.author = author\n\n    def display_info(self):\n        print(f\"Title: {self.title}\")\n        print(f\"Author: {self.author}\")\n\nclass Book(Document):\n    def __init__(self, title, author, genre=None, pages=None):\n        super().__init__(title, author)\n        self.genre = genre\n        self.pages = pages\n\n    def display_info(self):\n        super().display_info()\n        if self.genre:\n            print(f\"Genre: {self.genre}\")\n        if self.pages:\n            print(f\"Pages: {self.pages}\")\n\nclass Article(Document):\n    def __init__(self, title, author, journal=None, doi=None):\n        super().__init__(title, author)\n        self.journal = journal\n        self.doi = doi\n\n    def display_info(self):\n        super().display_info()\n        if self.journal:\n            print(f\"Journal: {self.journal}\")\n        if self.doi:\n            print(f\"DOI: {self.doi}\")\n\nclass DocumentManager:\n    def __init__(self, book_file=\"books.txt\", article_file=\"articles.txt\"):\n        self.book_file = book_file\n        self.article_file = article_file\n\n    def save_book(self, book):\n        \"\"\"Saves a book's details to the books file.\"\"\"\n        with open(self.book_file, \"a\") as file:\n            file.write(f\"{book.title}, {book.author}, {book.genre}, {book.pages}\\n\")\n        print(\"Book information saved successfully.\")\n\n    def save_article(self, article):\n        \"\"\"Saves an article's details to the articles file.\"\"\"\n        with open(self.article_file, \"a\") as file:\n            file.write(f\"{article.title}, {article.author}, {article.journal}, {article.doi}\\n\")\n        print(\"Article information saved successfully.\")\n\n    def read_books(self):\n        \"\"\"Reads and displays all books from the books file.\"\"\"\n        print(\"Books:\")\n        try:\n            with open(self.book_file, \"r\") as file:\n                for line in file:\n                    print(line.strip())\n        except FileNotFoundError:\n            print(\"No books found.\")\n\n    def read_articles(self):\n        \"\"\"Reads and displays all articles from the articles file.\"\"\"\n        print(\"Articles:\")\n        try:\n            with open(self.article_file, \"r\") as file:\n                for line in file:\n                    print(line.strip())\n        except FileNotFoundError:\n            print(\"No articles found.\")\n\nif __name__ == \"__main__\":\n\n    manager = DocumentManager()\n\n\n    book1 = Book(\"To Kill a Mockingbird\", \"Harper Lee\", \"Fiction\", 281)\n    book2 = Book(\"1984\", \"George Orwell\")  \n\n\n    article1 = Article(\"Quantum Computing\", \"John Doe\", \"Nature\", \"10.1038/xyz123\")\n    article2 = Article(\"AI and Ethics\", \"Jane Smith\")  \n\n    print(\"Book 1 Info:\")\n    book1.display_info()\n    print(\"\\nBook 2 Info:\")\n    book2.display_info()\n\n    print(\"\\nArticle 1 Info:\")\n    article1.display_info()\n    print(\"\\nArticle 2 Info:\")\n    article2.display_info()\n\n    manager.save_book(book1)\n    manager.save_book(book2)\n\n    manager.save_article(article1)\n    manager.save_article(article2)\n\n    print(\"\\nReading Books from File:\")\n    manager.read_books()\n\n    print(\"\\nReading Articles from File:\")\n    manager.read_articles()\n\n",
      "metadata": {
        "trusted": true
      },
      "outputs": [],
      "execution_count": null
    }
  ]
}