{
  "metadata": {
    "kernelspec": {
      "name": "python",
      "display_name": "Python (Pyodide)",
      "language": "python"
    },
    "language_info": {
      "codemirror_mode": {
        "name": "python",
        "version": 3
      },
      "file_extension": ".py",
      "mimetype": "text/x-python",
      "name": "python",
      "nbconvert_exporter": "python",
      "pygments_lexer": "ipython3",
      "version": "3.8"
    }
  },
  "nbformat_minor": 4,
  "nbformat": 4,
  "cells": [
    {
      "cell_type": "code",
      "source": "\nfrom employee import Manager, Worker\nfrom file_handler import add_to_file, read_from_file, update_in_file, delete_from_file\n\n\ndef add_employee():\n    emp_type = input(\"Enter type of employee (Manager/Worker): \").strip().lower()\n    name = input(\"Enter name: \")\n    age = input(\"Enter age: \")\n    salary = input(\"Enter salary: \")\n\n    if emp_type == \"manager\":\n        department = input(\"Enter department: \")\n        manager = Manager(name, age, salary, department)\n        add_to_file(manager)\n    elif emp_type == \"worker\":\n        hours_worked = input(\"Enter hours worked: \")\n        worker = Worker(name, age, salary, hours_worked)\n        add_to_file(worker)\n    else:\n        print(\"Invalid type!\")\n\n\ndef display_employees():\n    rows = read_from_file()\n    if rows:\n        print(\"Name | Age | Salary | Department | Hours Worked\")\n        for row in rows:\n            print(\" | \".join(row))\n    else:\n        print(\"No employees found.\")\n\n\ndef update_employee():\n    name = input(\"Enter the name of the employee to update: \")\n    attribute = input(\"Enter the attribute to update (age/salary/department/hours_worked): \").strip().lower()\n    new_value = input(\"Enter the new value: \")\n\n    rows = read_from_file()\n    for row in rows:\n        if row[0] == name:\n            if attribute == \"age\":\n                row[1] = new_value\n            elif attribute == \"salary\":\n                row[2] = new_value\n            elif attribute == \"department\":\n                row[3] = new_value\n            elif attribute == \"hours_worked\":\n                row[4] = new_value\n    update_in_file(rows)\n\n\ndef delete_employee():\n    name = input(\"Enter the name of the employee to delete: \")\n    delete_from_file(name)\n\n\ndef main():\n    while True:\n        print(\"\\nEmployee Management System\")\n        print(\"1. Add Employee\")\n        print(\"2. Display Employees\")\n        print(\"3. Update Employee Information\")\n        print(\"4. Delete Employee\")\n        print(\"5. Exit\")\n        choice = input(\"Enter your choice: \")\n\n        if choice == \"1\":\n            add_employee()\n        elif choice == \"2\":\n            display_employees()\n        elif choice == \"3\":\n            update_employee()\n        elif choice == \"4\":\n            delete_employee()\n        elif choice == \"5\":\n            print(\"Exiting...\")\n            break\n        else:\n            print(\"Invalid choice. Please try again.\")\n\n\nif __name__ == \"__main__\":\n    main()\n",
      "metadata": {
        "trusted": true
      },
      "outputs": [],
      "execution_count": null
    }
  ]
}